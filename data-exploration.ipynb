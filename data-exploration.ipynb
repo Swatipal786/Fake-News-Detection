{
 "cells": [
  {
   "cell_type": "markdown",
   "metadata": {},
   "source": [
    "# Fake News Detector\n",
    "\n"
   ]
  },
  {
   "cell_type": "code",
   "execution_count": 2,
   "metadata": {},
   "outputs": [
    {
     "ename": "ModuleNotFoundError",
     "evalue": "No module named 'chart_studio'",
     "output_type": "error",
     "traceback": [
      "\u001b[0;31m---------------------------------------------------------------------------\u001b[0m",
      "\u001b[0;31mModuleNotFoundError\u001b[0m                       Traceback (most recent call last)",
      "\u001b[0;32m/var/folders/83/8gchw24s00v8m6yk0fmzctnr0000gn/T/ipykernel_69759/1755066839.py\u001b[0m in \u001b[0;36m<module>\u001b[0;34m\u001b[0m\n\u001b[1;32m      9\u001b[0m \u001b[0;32mimport\u001b[0m \u001b[0mmatplotlib\u001b[0m\u001b[0;34m.\u001b[0m\u001b[0mpyplot\u001b[0m \u001b[0;32mas\u001b[0m \u001b[0mplt\u001b[0m\u001b[0;34m\u001b[0m\u001b[0;34m\u001b[0m\u001b[0m\n\u001b[1;32m     10\u001b[0m \u001b[0;32mfrom\u001b[0m \u001b[0mPIL\u001b[0m \u001b[0;32mimport\u001b[0m \u001b[0mImage\u001b[0m\u001b[0;34m\u001b[0m\u001b[0;34m\u001b[0m\u001b[0m\n\u001b[0;32m---> 11\u001b[0;31m \u001b[0;32mimport\u001b[0m \u001b[0mchart_studio\u001b[0m\u001b[0;34m.\u001b[0m\u001b[0mplotly\u001b[0m \u001b[0;32mas\u001b[0m \u001b[0mpy\u001b[0m\u001b[0;34m\u001b[0m\u001b[0;34m\u001b[0m\u001b[0m\n\u001b[0m\u001b[1;32m     12\u001b[0m \u001b[0;32mimport\u001b[0m \u001b[0mplotly\u001b[0m\u001b[0;34m.\u001b[0m\u001b[0mgraph_objects\u001b[0m \u001b[0;32mas\u001b[0m \u001b[0mgo\u001b[0m\u001b[0;34m\u001b[0m\u001b[0;34m\u001b[0m\u001b[0m\n\u001b[1;32m     13\u001b[0m \u001b[0;32mimport\u001b[0m \u001b[0mplotly\u001b[0m\u001b[0;34m.\u001b[0m\u001b[0mexpress\u001b[0m \u001b[0;32mas\u001b[0m \u001b[0mpx\u001b[0m\u001b[0;34m\u001b[0m\u001b[0;34m\u001b[0m\u001b[0m\n",
      "\u001b[0;31mModuleNotFoundError\u001b[0m: No module named 'chart_studio'"
     ]
    }
   ],
   "source": [
    "\n",
    "# Import libraries.\n",
    "import pandas as pd\n",
    "import numpy as np\n",
    "\n",
    "import matplotlib.pyplot as plt\n",
    "from PIL import Image\n",
    "import chart_studio.plotly as py\n",
    "import plotly.graph_objects as go\n",
    "import plotly.express as px\n",
    "from plotly.subplots import make_subplots\n",
    "import plotly.io as pio\n",
    "\n",
    "import nltk\n",
    "nltk.download('stopwords')\n",
    "nltk.download('punkt')\n",
    "from nltk.corpus import stopwords\n",
    "from nltk.stem.snowball import SnowballStemmer\n",
    "from sklearn.feature_extraction.text import CountVectorizer\n",
    "from wordcloud import WordCloud\n",
    "\n",
    "import re\n",
    "from bs4 import BeautifulSoup\n",
    "from tqdm import tqdm\n",
    "from collections import Counter\n",
    "\n",
    "# Set Plotly theme.\n",
    "pio.templates.default = \"gridon\"\n",
    "\n",
    "# Set global variables.\n",
    "RANDOM_STATE = 5"
   ]
  },
  {
   "cell_type": "code",
   "execution_count": 3,
   "metadata": {},
   "outputs": [
    {
     "ename": "FileNotFoundError",
     "evalue": "[Errno 2] No such file or directory: 'data/True.csv'",
     "output_type": "error",
     "traceback": [
      "\u001b[0;31m---------------------------------------------------------------------------\u001b[0m",
      "\u001b[0;31mFileNotFoundError\u001b[0m                         Traceback (most recent call last)",
      "\u001b[0;32m/var/folders/83/8gchw24s00v8m6yk0fmzctnr0000gn/T/ipykernel_69759/1332053067.py\u001b[0m in \u001b[0;36m<module>\u001b[0;34m\u001b[0m\n\u001b[0;32m----> 1\u001b[0;31m \u001b[0mtrue\u001b[0m \u001b[0;34m=\u001b[0m \u001b[0mpd\u001b[0m\u001b[0;34m.\u001b[0m\u001b[0mread_csv\u001b[0m\u001b[0;34m(\u001b[0m\u001b[0;34m\"data/True.csv\"\u001b[0m\u001b[0;34m)\u001b[0m\u001b[0;34m\u001b[0m\u001b[0;34m\u001b[0m\u001b[0m\n\u001b[0m\u001b[1;32m      2\u001b[0m \u001b[0mfake\u001b[0m \u001b[0;34m=\u001b[0m \u001b[0mpd\u001b[0m\u001b[0;34m.\u001b[0m\u001b[0mread_csv\u001b[0m\u001b[0;34m(\u001b[0m\u001b[0;34m\"data/Fake.csv\"\u001b[0m\u001b[0;34m)\u001b[0m\u001b[0;34m\u001b[0m\u001b[0;34m\u001b[0m\u001b[0m\n\u001b[1;32m      3\u001b[0m \u001b[0;34m\u001b[0m\u001b[0m\n\u001b[1;32m      4\u001b[0m \u001b[0;31m# Show first rows for each dataset.\u001b[0m\u001b[0;34m\u001b[0m\u001b[0;34m\u001b[0m\u001b[0m\n\u001b[1;32m      5\u001b[0m \u001b[0mdisplay\u001b[0m\u001b[0;34m(\u001b[0m\u001b[0mtrue\u001b[0m\u001b[0;34m.\u001b[0m\u001b[0mhead\u001b[0m\u001b[0;34m(\u001b[0m\u001b[0;34m)\u001b[0m\u001b[0;34m)\u001b[0m\u001b[0;34m\u001b[0m\u001b[0;34m\u001b[0m\u001b[0m\n",
      "\u001b[0;32m~/opt/anaconda3/lib/python3.9/site-packages/pandas/util/_decorators.py\u001b[0m in \u001b[0;36mwrapper\u001b[0;34m(*args, **kwargs)\u001b[0m\n\u001b[1;32m    309\u001b[0m                     \u001b[0mstacklevel\u001b[0m\u001b[0;34m=\u001b[0m\u001b[0mstacklevel\u001b[0m\u001b[0;34m,\u001b[0m\u001b[0;34m\u001b[0m\u001b[0;34m\u001b[0m\u001b[0m\n\u001b[1;32m    310\u001b[0m                 )\n\u001b[0;32m--> 311\u001b[0;31m             \u001b[0;32mreturn\u001b[0m \u001b[0mfunc\u001b[0m\u001b[0;34m(\u001b[0m\u001b[0;34m*\u001b[0m\u001b[0margs\u001b[0m\u001b[0;34m,\u001b[0m \u001b[0;34m**\u001b[0m\u001b[0mkwargs\u001b[0m\u001b[0;34m)\u001b[0m\u001b[0;34m\u001b[0m\u001b[0;34m\u001b[0m\u001b[0m\n\u001b[0m\u001b[1;32m    312\u001b[0m \u001b[0;34m\u001b[0m\u001b[0m\n\u001b[1;32m    313\u001b[0m         \u001b[0;32mreturn\u001b[0m \u001b[0mwrapper\u001b[0m\u001b[0;34m\u001b[0m\u001b[0;34m\u001b[0m\u001b[0m\n",
      "\u001b[0;32m~/opt/anaconda3/lib/python3.9/site-packages/pandas/io/parsers/readers.py\u001b[0m in \u001b[0;36mread_csv\u001b[0;34m(filepath_or_buffer, sep, delimiter, header, names, index_col, usecols, squeeze, prefix, mangle_dupe_cols, dtype, engine, converters, true_values, false_values, skipinitialspace, skiprows, skipfooter, nrows, na_values, keep_default_na, na_filter, verbose, skip_blank_lines, parse_dates, infer_datetime_format, keep_date_col, date_parser, dayfirst, cache_dates, iterator, chunksize, compression, thousands, decimal, lineterminator, quotechar, quoting, doublequote, escapechar, comment, encoding, encoding_errors, dialect, error_bad_lines, warn_bad_lines, on_bad_lines, delim_whitespace, low_memory, memory_map, float_precision, storage_options)\u001b[0m\n\u001b[1;32m    678\u001b[0m     \u001b[0mkwds\u001b[0m\u001b[0;34m.\u001b[0m\u001b[0mupdate\u001b[0m\u001b[0;34m(\u001b[0m\u001b[0mkwds_defaults\u001b[0m\u001b[0;34m)\u001b[0m\u001b[0;34m\u001b[0m\u001b[0;34m\u001b[0m\u001b[0m\n\u001b[1;32m    679\u001b[0m \u001b[0;34m\u001b[0m\u001b[0m\n\u001b[0;32m--> 680\u001b[0;31m     \u001b[0;32mreturn\u001b[0m \u001b[0m_read\u001b[0m\u001b[0;34m(\u001b[0m\u001b[0mfilepath_or_buffer\u001b[0m\u001b[0;34m,\u001b[0m \u001b[0mkwds\u001b[0m\u001b[0;34m)\u001b[0m\u001b[0;34m\u001b[0m\u001b[0;34m\u001b[0m\u001b[0m\n\u001b[0m\u001b[1;32m    681\u001b[0m \u001b[0;34m\u001b[0m\u001b[0m\n\u001b[1;32m    682\u001b[0m \u001b[0;34m\u001b[0m\u001b[0m\n",
      "\u001b[0;32m~/opt/anaconda3/lib/python3.9/site-packages/pandas/io/parsers/readers.py\u001b[0m in \u001b[0;36m_read\u001b[0;34m(filepath_or_buffer, kwds)\u001b[0m\n\u001b[1;32m    573\u001b[0m \u001b[0;34m\u001b[0m\u001b[0m\n\u001b[1;32m    574\u001b[0m     \u001b[0;31m# Create the parser.\u001b[0m\u001b[0;34m\u001b[0m\u001b[0;34m\u001b[0m\u001b[0m\n\u001b[0;32m--> 575\u001b[0;31m     \u001b[0mparser\u001b[0m \u001b[0;34m=\u001b[0m \u001b[0mTextFileReader\u001b[0m\u001b[0;34m(\u001b[0m\u001b[0mfilepath_or_buffer\u001b[0m\u001b[0;34m,\u001b[0m \u001b[0;34m**\u001b[0m\u001b[0mkwds\u001b[0m\u001b[0;34m)\u001b[0m\u001b[0;34m\u001b[0m\u001b[0;34m\u001b[0m\u001b[0m\n\u001b[0m\u001b[1;32m    576\u001b[0m \u001b[0;34m\u001b[0m\u001b[0m\n\u001b[1;32m    577\u001b[0m     \u001b[0;32mif\u001b[0m \u001b[0mchunksize\u001b[0m \u001b[0;32mor\u001b[0m \u001b[0miterator\u001b[0m\u001b[0;34m:\u001b[0m\u001b[0;34m\u001b[0m\u001b[0;34m\u001b[0m\u001b[0m\n",
      "\u001b[0;32m~/opt/anaconda3/lib/python3.9/site-packages/pandas/io/parsers/readers.py\u001b[0m in \u001b[0;36m__init__\u001b[0;34m(self, f, engine, **kwds)\u001b[0m\n\u001b[1;32m    931\u001b[0m \u001b[0;34m\u001b[0m\u001b[0m\n\u001b[1;32m    932\u001b[0m         \u001b[0mself\u001b[0m\u001b[0;34m.\u001b[0m\u001b[0mhandles\u001b[0m\u001b[0;34m:\u001b[0m \u001b[0mIOHandles\u001b[0m \u001b[0;34m|\u001b[0m \u001b[0;32mNone\u001b[0m \u001b[0;34m=\u001b[0m \u001b[0;32mNone\u001b[0m\u001b[0;34m\u001b[0m\u001b[0;34m\u001b[0m\u001b[0m\n\u001b[0;32m--> 933\u001b[0;31m         \u001b[0mself\u001b[0m\u001b[0;34m.\u001b[0m\u001b[0m_engine\u001b[0m \u001b[0;34m=\u001b[0m \u001b[0mself\u001b[0m\u001b[0;34m.\u001b[0m\u001b[0m_make_engine\u001b[0m\u001b[0;34m(\u001b[0m\u001b[0mf\u001b[0m\u001b[0;34m,\u001b[0m \u001b[0mself\u001b[0m\u001b[0;34m.\u001b[0m\u001b[0mengine\u001b[0m\u001b[0;34m)\u001b[0m\u001b[0;34m\u001b[0m\u001b[0;34m\u001b[0m\u001b[0m\n\u001b[0m\u001b[1;32m    934\u001b[0m \u001b[0;34m\u001b[0m\u001b[0m\n\u001b[1;32m    935\u001b[0m     \u001b[0;32mdef\u001b[0m \u001b[0mclose\u001b[0m\u001b[0;34m(\u001b[0m\u001b[0mself\u001b[0m\u001b[0;34m)\u001b[0m\u001b[0;34m:\u001b[0m\u001b[0;34m\u001b[0m\u001b[0;34m\u001b[0m\u001b[0m\n",
      "\u001b[0;32m~/opt/anaconda3/lib/python3.9/site-packages/pandas/io/parsers/readers.py\u001b[0m in \u001b[0;36m_make_engine\u001b[0;34m(self, f, engine)\u001b[0m\n\u001b[1;32m   1215\u001b[0m             \u001b[0;31m# \"Union[str, PathLike[str], ReadCsvBuffer[bytes], ReadCsvBuffer[str]]\"\u001b[0m\u001b[0;34m\u001b[0m\u001b[0;34m\u001b[0m\u001b[0m\n\u001b[1;32m   1216\u001b[0m             \u001b[0;31m# , \"str\", \"bool\", \"Any\", \"Any\", \"Any\", \"Any\", \"Any\"\u001b[0m\u001b[0;34m\u001b[0m\u001b[0;34m\u001b[0m\u001b[0m\n\u001b[0;32m-> 1217\u001b[0;31m             self.handles = get_handle(  # type: ignore[call-overload]\n\u001b[0m\u001b[1;32m   1218\u001b[0m                 \u001b[0mf\u001b[0m\u001b[0;34m,\u001b[0m\u001b[0;34m\u001b[0m\u001b[0;34m\u001b[0m\u001b[0m\n\u001b[1;32m   1219\u001b[0m                 \u001b[0mmode\u001b[0m\u001b[0;34m,\u001b[0m\u001b[0;34m\u001b[0m\u001b[0;34m\u001b[0m\u001b[0m\n",
      "\u001b[0;32m~/opt/anaconda3/lib/python3.9/site-packages/pandas/io/common.py\u001b[0m in \u001b[0;36mget_handle\u001b[0;34m(path_or_buf, mode, encoding, compression, memory_map, is_text, errors, storage_options)\u001b[0m\n\u001b[1;32m    787\u001b[0m         \u001b[0;32mif\u001b[0m \u001b[0mioargs\u001b[0m\u001b[0;34m.\u001b[0m\u001b[0mencoding\u001b[0m \u001b[0;32mand\u001b[0m \u001b[0;34m\"b\"\u001b[0m \u001b[0;32mnot\u001b[0m \u001b[0;32min\u001b[0m \u001b[0mioargs\u001b[0m\u001b[0;34m.\u001b[0m\u001b[0mmode\u001b[0m\u001b[0;34m:\u001b[0m\u001b[0;34m\u001b[0m\u001b[0;34m\u001b[0m\u001b[0m\n\u001b[1;32m    788\u001b[0m             \u001b[0;31m# Encoding\u001b[0m\u001b[0;34m\u001b[0m\u001b[0;34m\u001b[0m\u001b[0m\n\u001b[0;32m--> 789\u001b[0;31m             handle = open(\n\u001b[0m\u001b[1;32m    790\u001b[0m                 \u001b[0mhandle\u001b[0m\u001b[0;34m,\u001b[0m\u001b[0;34m\u001b[0m\u001b[0;34m\u001b[0m\u001b[0m\n\u001b[1;32m    791\u001b[0m                 \u001b[0mioargs\u001b[0m\u001b[0;34m.\u001b[0m\u001b[0mmode\u001b[0m\u001b[0;34m,\u001b[0m\u001b[0;34m\u001b[0m\u001b[0;34m\u001b[0m\u001b[0m\n",
      "\u001b[0;31mFileNotFoundError\u001b[0m: [Errno 2] No such file or directory: 'data/True.csv'"
     ]
    }
   ],
   "source": [
    "true = pd.read_csv(\"data/True.csv\")\n",
    "fake = pd.read_csv(\"data/Fake.csv\")\n",
    "\n",
    "# Show first rows for each dataset.\n",
    "display(true.head())\n",
    "display(fake.head())\n",
    "\n",
    "# Print the number of real and fake news.\n",
    "print('\\nThere are {} real and {} fake news'.format(true.shape[0], fake.shape[0]))"
   ]
  },
  {
   "cell_type": "code",
   "execution_count": null,
   "metadata": {},
   "outputs": [],
   "source": [
    "# Create the 'label' column.\n",
    "true['label'] = 'True'\n",
    "fake['label'] = 'Fake'\n",
    "\n",
    "# Concatenate the 2 dfs.\n",
    "df = pd.concat([true, fake])\n",
    "\n",
    "# To save a bit of memory we can set fake and true to None.\n",
    "fake = true = None\n",
    "\n",
    "#  Shuffle data.\n",
    "df = df.sample(frac=1, random_state=RANDOM_STATE).reset_index(drop=True)\n",
    "\n",
    "# Show first rows.\n",
    "df.head()"
   ]
  },
  {
   "cell_type": "code",
   "execution_count": null,
   "metadata": {},
   "outputs": [],
   "source": [
    "# Check df.\n",
    "df.info()"
   ]
  },
  {
   "cell_type": "code",
   "execution_count": null,
   "metadata": {},
   "outputs": [],
   "source": [
    "# Show counts for each class.\n",
    "fig = px.bar(df.groupby('label').count().reset_index(), x='label', y='title', text='title', opacity=0.6)\n",
    "fig.update_layout(title_text='Distribution of News')\n",
    "fig.update_xaxes(showgrid=False, title_text=None)\n",
    "fig.update_yaxes(showgrid=False, title_text=None)\n",
    "fig.update_yaxes(showticklabels=False)\n",
    "fig.show()"
   ]
  },
  {
   "cell_type": "code",
   "execution_count": null,
   "metadata": {},
   "outputs": [],
   "source": [
    "# Show counts for each class.\n",
    "fig = px.bar(df.groupby('subject').count()['title'].reset_index().sort_values(by='title'),\n",
    "             x='subject', y='title', text='title', opacity=0.6)\n",
    "fig.update_layout(title_text='Distribution of News Subjects')\n",
    "fig.update_xaxes(showgrid=False, title_text=None)\n",
    "fig.update_yaxes(showgrid=False, title_text=None)\n",
    "fig.update_yaxes(showticklabels=False)\n",
    "fig.show()"
   ]
  },
  {
   "cell_type": "code",
   "execution_count": null,
   "metadata": {},
   "outputs": [],
   "source": [
    "df_sum = df.groupby(['label', 'subject']).count().reset_index()\n",
    "fig = px.bar(df_sum, x='label', y='title', color='subject', text='title', opacity=0.6)\n",
    "fig.update_xaxes(showgrid=False, title_text=None)\n",
    "fig.update_yaxes(showgrid=False, title_text=None)\n",
    "fig.update_yaxes(showticklabels=False)\n",
    "fig.show()"
   ]
  },
  {
   "cell_type": "code",
   "execution_count": null,
   "metadata": {},
   "outputs": [],
   "source": [
    "# Convert date str into date object. Take care of any errors for invalid dates.\n",
    "df['date'] = pd.to_datetime(df['date'], errors='coerce')\n",
    "df_date = df.groupby(['label', 'date'])['title'].count().reset_index()\n",
    "\n",
    "fig = px.line(df_date, x='date', y='title', color='label')\n",
    "fig.update_xaxes(title_text=None)\n",
    "fig.update_yaxes(title_text=None)\n",
    "fig.update_layout(legend_title_text=None)\n",
    "fig.show()"
   ]
  },
  {
   "cell_type": "code",
   "execution_count": null,
   "metadata": {},
   "outputs": [],
   "source": [
    "# Filter df based on date.\n",
    "df_filtered = df[(df['date'] < '2017-08-31') & (df['date'] > '2016-02-01')].copy()\n",
    "df_filtered.loc[:, 'weekday'] = df_filtered['date'].dt.dayofweek\n",
    "df_filtered.loc[:, 'week'] = df_filtered['date'].dt.weekofyear\n",
    "df_filtered.loc[:, 'month'] = df_filtered['date'].dt.month\n",
    "df_filtered.loc[:, 'quarter'] = df_filtered['date'].dt.quarter\n",
    "\n",
    "df_weekday = df_filtered.groupby(['label', 'weekday']).count()['title'].reset_index()\n",
    "\n",
    "fig = px.line(df_weekday, x='weekday', y='title', color='label')\n",
    "fig.update_layout(title_text='Day of Week')\n",
    "fig.update_xaxes(title_text=None)\n",
    "fig.update_yaxes(title_text=None)\n",
    "fig.update_layout(legend_title_text=None)\n",
    "fig.show()"
   ]
  },
  {
   "cell_type": "code",
   "execution_count": null,
   "metadata": {},
   "outputs": [],
   "source": [
    "df_week = df_filtered.groupby(['label', 'week']).count()['title'].reset_index()\n",
    "\n",
    "fig = px.line(df_week, x='week', y='title', color='label')\n",
    "fig.update_layout(title_text='Week of the Year')\n",
    "fig.update_xaxes(title_text=None)\n",
    "fig.update_yaxes(title_text=None)\n",
    "fig.update_layout(legend_title_text=None)\n",
    "fig.show()"
   ]
  },
  {
   "cell_type": "code",
   "execution_count": null,
   "metadata": {},
   "outputs": [],
   "source": [
    "df_month = df_filtered.groupby(['label', 'month']).count()['title'].reset_index()\n",
    "\n",
    "fig = px.line(df_month, x='month', y='title', color='label')\n",
    "fig.update_layout(title_text='Monthly')\n",
    "fig.update_xaxes(title_text=None)\n",
    "fig.update_yaxes(title_text=None)\n",
    "fig.update_layout(legend_title_text=None)\n",
    "fig.show()"
   ]
  },
  {
   "cell_type": "code",
   "execution_count": null,
   "metadata": {},
   "outputs": [],
   "source": [
    "df_quarter = df_filtered.groupby(['label', 'quarter']).count()['title'].reset_index()\n",
    "\n",
    "fig = px.line(df_quarter, x='quarter', y='title', color='label')\n",
    "fig.update_layout(title_text='Quarterly')\n",
    "fig.update_xaxes(title_text=None)\n",
    "fig.update_yaxes(title_text=None)\n",
    "fig.update_layout(legend_title_text=None)\n",
    "fig.show()"
   ]
  },
  {
   "cell_type": "code",
   "execution_count": null,
   "metadata": {},
   "outputs": [],
   "source": [
    "print('Fake News\\n')\n",
    "print(df[df.label == 'Fake']['text'].tolist()[3])\n",
    "print()\n",
    "print(df[df.label == 'Fake']['text'].tolist()[5])\n",
    "print()\n",
    "print('\\n\\nTrue News\\n')\n",
    "print(df[df.label == 'True']['text'].tolist()[0])\n",
    "print()\n",
    "print(df[df.label == 'True']['text'].tolist()[2])"
   ]
  },
  {
   "cell_type": "code",
   "execution_count": null,
   "metadata": {},
   "outputs": [],
   "source": [
    "# Create a function to create a word cloud.\n",
    "def make_wordcloud(text, mask, color):\n",
    "    wordcloud = WordCloud(max_words=200, mask=mask,\n",
    "                          background_color='white',\n",
    "                          contour_width=2,\n",
    "                          contour_color=color).generate(text)\n",
    "    plt.figure(figsize=(17,12))\n",
    "    plt.imshow(wordcloud, interpolation='bilinear')\n",
    "    plt.axis('off')\n",
    "    plt.show()\n",
    "\n",
    "# Read an image in order to use it as a shape for our word cloud.\n",
    "fake_mask = np.array(Image.open(\"data/fake.png\"))\n",
    "true_mask = np.array(Image.open(\"data/true.png\"))\n",
    "\n",
    "# Get the fake and true news.\n",
    "fake_text = \" \".join(text for text in df[df.label == 'Fake']['text'])\n",
    "true_text = \" \".join(text for text in df[df.label == 'True']['text'])\n",
    "\n",
    "# Render word clouds.\n",
    "make_wordcloud(fake_text, fake_mask, 'blue')\n",
    "make_wordcloud(true_text, true_mask, 'orange')"
   ]
  },
  {
   "cell_type": "code",
   "execution_count": null,
   "metadata": {},
   "outputs": [],
   "source": [
    "# Create a new 'tqdm' instance to time and estimate the progress of functions.\n",
    "tqdm.pandas()\n",
    "\n",
    "# Create a function to clean and prepare text.\n",
    "def clean_text(text):\n",
    "   \n",
    "    \n",
    "    # Replace numbers with the str 'number'.\n",
    "    text = re.sub('\\d+', 'number', text)\n",
    "    \n",
    "    # Replace newlines with spaces.\n",
    "    text = re.sub('\\n', ' ', text)\n",
    "    \n",
    "    # Replace punctuation with spaces.\n",
    "    text = re.sub(r'[^\\w\\s]', ' ', text)\n",
    "    \n",
    "    # Remove HTML tags.\n",
    "    text = BeautifulSoup(text, \"html.parser\").get_text()\n",
    "    \n",
    "    # Replace links with the str 'link'\n",
    "    text = re.sub('http[s]?://(?:[a-zA-Z]|[0-9]|[$-_@.&+]|[!*\\(\\),]|(?:%[0-9a-fA-F][0-9a-fA-F]))+',\n",
    "                   'link', text, flags=re.MULTILINE)\n",
    "\n",
    "    # Replace emails with the str 'email'\n",
    "    text = re.sub('\\S+@\\S+', 'email', text, flags=re.MULTILINE)\n",
    "    \n",
    "    # Convert all letters to lower case.\n",
    "    text = text.lower()\n",
    "    \n",
    "    # Create the stemmer.\n",
    "    stemmer = SnowballStemmer('english')\n",
    "    \n",
    "    # Split text into words.\n",
    "    words = text.split()\n",
    "    \n",
    "    # Remove stopwords.\n",
    "    words = [w for w in words if w not in stopwords.words('english')]\n",
    "    \n",
    "    # Stem words.\n",
    "    words = [stemmer.stem(w) for w in words]\n",
    "    \n",
    "    return words\n",
    "\n",
    "# Apply the cleaning function to the dataset.\n",
    "df.text = df.text.progress_apply(clean_text)"
   ]
  },
  {
   "cell_type": "code",
   "execution_count": null,
   "metadata": {},
   "outputs": [],
   "source": [
    "# Create a function to count and return the most frequent words.\n",
    "def frequent_words(label, max_words):\n",
    "    # Gather text and concatenate.\n",
    "    text = df[df['label'] == label]['text'].values\n",
    "    text = np.concatenate(text)\n",
    "    \n",
    "    # Count words.\n",
    "    counts = Counter(text)\n",
    "    \n",
    "    # Create a pandas df from the Counter dictionary.\n",
    "    df_counts = pd.DataFrame.from_dict(counts, orient='index')\n",
    "    df_counts = df_counts.rename(columns={0:'counts'})\n",
    "    \n",
    "    # Return a df with the most frequent words.\n",
    "    return df_counts.sort_values(by='counts', ascending=False).head(max_words).sort_values(by='counts')\n",
    "\n",
    "# Get the 50 most frequent words.\n",
    "df_fake_counts = frequent_words(label='Fake', max_words=50)\n",
    "df_true_counts = frequent_words(label='True', max_words=50)\n",
    "\n",
    "# Plot horizontal bar charts.\n",
    "fig = make_subplots(rows=1, cols=2, subplot_titles=(\"Fake News\", \"True News\"))\n",
    "\n",
    "fig.add_trace(go.Bar(x=df_fake_counts.counts.tolist(),\n",
    "                     y=df_fake_counts.index.values.tolist(),\n",
    "                     orientation='h', opacity=0.6), 1, 1)\n",
    "\n",
    "fig.add_trace(go.Bar(x=df_true_counts.counts.tolist(),\n",
    "                     y=df_true_counts.index.values.tolist(),\n",
    "                     orientation='h', opacity=0.6), 1, 2)\n",
    "\n",
    "fig.update_layout(height=900, width=900, title_text=\"Most Frequent Words\", showlegend=False)\n",
    "fig.update_xaxes(showgrid=False, title_text=None)\n",
    "fig.update_yaxes(showgrid=False, title_text=None)\n",
    "fig.show()"
   ]
  }
 ],
 "metadata": {
  "kernelspec": {
   "display_name": "Python 3 (ipykernel)",
   "language": "python",
   "name": "python3"
  },
  "language_info": {
   "codemirror_mode": {
    "name": "ipython",
    "version": 3
   },
   "file_extension": ".py",
   "mimetype": "text/x-python",
   "name": "python",
   "nbconvert_exporter": "python",
   "pygments_lexer": "ipython3",
   "version": "3.9.7"
  }
 },
 "nbformat": 4,
 "nbformat_minor": 4
}
